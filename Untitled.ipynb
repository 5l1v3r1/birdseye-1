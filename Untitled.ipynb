{
 "cells": [
  {
   "cell_type": "code",
   "execution_count": 15,
   "metadata": {
    "collapsed": false
   },
   "outputs": [],
   "source": [
    "from IPython.core.magic import cell_magic, Magics, magics_class\n",
    "from IPython.core.display import display, HTML\n",
    "from birdseye import eye\n",
    "\n",
    "@magics_class\n",
    "class BirdsEyeMagic(Magics):\n",
    "    @cell_magic\n",
    "    def eye(self, line, cell):\n",
    "        call = eye.exec_ipython_cell(cell)\n",
    "        function = call.function\n",
    "        display(HTML('<img src=\"file:///Users/alexhall/Desktop/python/treetrace/birdseye/static/css/proton/30px.png\"/>'))\n",
    "        \n",
    "#         display(HTML('<pre id=\"code\" class=\"python\">%s</pre>' % function.html_body))\n",
    "        \n",
    "\n",
    "get_ipython().register_magics(BirdsEyeMagic)"
   ]
  },
  {
   "cell_type": "code",
   "execution_count": 16,
   "metadata": {
    "collapsed": false
   },
   "outputs": [
    {
     "name": "stdout",
     "output_type": "stream",
     "text": [
      "529\n"
     ]
    },
    {
     "data": {
      "text/html": [
       "<img src=\"file:///Users/alexhall/Desktop/python/treetrace/birdseye/static/css/proton/30px.png\"/>"
      ],
      "text/plain": [
       "<IPython.core.display.HTML object>"
      ]
     },
     "metadata": {},
     "output_type": "display_data"
    }
   ],
   "source": [
    "%%eye\n",
    "print(23 ** 2)"
   ]
  },
  {
   "cell_type": "code",
   "execution_count": 6,
   "metadata": {
    "collapsed": false
   },
   "outputs": [
    {
     "data": {
      "text/plain": [
       "4"
      ]
     },
     "execution_count": 6,
     "metadata": {},
     "output_type": "execute_result"
    }
   ],
   "source": [
    "x = 2\n",
    "x + x\n"
   ]
  },
  {
   "cell_type": "code",
   "execution_count": null,
   "metadata": {
    "collapsed": true
   },
   "outputs": [],
   "source": []
  }
 ],
 "metadata": {
  "kernelspec": {
   "display_name": "Python 3",
   "language": "python",
   "name": "python3"
  },
  "language_info": {
   "codemirror_mode": {
    "name": "ipython",
    "version": 3
   },
   "file_extension": ".py",
   "mimetype": "text/x-python",
   "name": "python",
   "nbconvert_exporter": "python",
   "pygments_lexer": "ipython3",
   "version": "3.5.1"
  }
 },
 "nbformat": 4,
 "nbformat_minor": 2
}
